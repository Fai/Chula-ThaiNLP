{
 "cells": [
  {
   "cell_type": "code",
   "outputs": [
    {
     "name": "stdout",
     "output_type": "stream",
     "text": [
      "\u001B[33mDEPRECATION: Configuring installation scheme with distutils config files is deprecated and will no longer work in the near future. If you are using a Homebrew or Linuxbrew Python, please see discussion at https://github.com/Homebrew/homebrew-core/issues/76621\u001B[0m\u001B[33m\r\n",
      "\u001B[0mCollecting pd\r\n",
      "  Downloading pd-0.0.4-py3-none-any.whl.metadata (5.2 kB)\r\n",
      "Requirement already satisfied: nltk in /usr/local/lib/python3.9/site-packages (3.8.1)\r\n",
      "Requirement already satisfied: click in /usr/local/lib/python3.9/site-packages (from nltk) (8.1.7)\r\n",
      "Requirement already satisfied: joblib in /usr/local/lib/python3.9/site-packages (from nltk) (1.4.2)\r\n",
      "Requirement already satisfied: regex>=2021.8.3 in /usr/local/lib/python3.9/site-packages (from nltk) (2024.4.28)\r\n",
      "Requirement already satisfied: tqdm in /usr/local/lib/python3.9/site-packages (from nltk) (4.66.4)\r\n",
      "Downloading pd-0.0.4-py3-none-any.whl (6.5 kB)\r\n",
      "Installing collected packages: pd\r\n",
      "\u001B[33m  DEPRECATION: Configuring installation scheme with distutils config files is deprecated and will no longer work in the near future. If you are using a Homebrew or Linuxbrew Python, please see discussion at https://github.com/Homebrew/homebrew-core/issues/76621\u001B[0m\u001B[33m\r\n",
      "\u001B[0m\u001B[33mDEPRECATION: Configuring installation scheme with distutils config files is deprecated and will no longer work in the near future. If you are using a Homebrew or Linuxbrew Python, please see discussion at https://github.com/Homebrew/homebrew-core/issues/76621\u001B[0m\u001B[33m\r\n",
      "\u001B[0mSuccessfully installed pd-0.0.4\r\n",
      "\r\n",
      "\u001B[1m[\u001B[0m\u001B[34;49mnotice\u001B[0m\u001B[1;39;49m]\u001B[0m\u001B[39;49m A new release of pip is available: \u001B[0m\u001B[31;49m23.3.1\u001B[0m\u001B[39;49m -> \u001B[0m\u001B[32;49m24.0\u001B[0m\r\n",
      "\u001B[1m[\u001B[0m\u001B[34;49mnotice\u001B[0m\u001B[1;39;49m]\u001B[0m\u001B[39;49m To update, run: \u001B[0m\u001B[32;49mpython3.9 -m pip install --upgrade pip\u001B[0m\r\n",
      "Note: you may need to restart the kernel to use updated packages.\n"
     ]
    }
   ],
   "source": [
    "%pip install pd nltk"
   ],
   "metadata": {
    "collapsed": false,
    "ExecuteTime": {
     "end_time": "2024-05-08T06:33:08.952023Z",
     "start_time": "2024-05-08T06:33:05.201407Z"
    }
   },
   "id": "1ee1442828e8b55e",
   "execution_count": 2
  },
  {
   "cell_type": "markdown",
   "source": [
    "Data from \n",
    "https://drive.google/us?id-1E-jV3nBZP3mdwlDA9eTrQkFDjiAzsO0"
   ],
   "metadata": {
    "collapsed": false
   },
   "id": "8d510b9206325eda"
  },
  {
   "cell_type": "code",
   "outputs": [
    {
     "name": "stderr",
     "output_type": "stream",
     "text": [
      "[nltk_data] Downloading package punkt to /Users/Fai/nltk_data...\n",
      "[nltk_data]   Package punkt is already up-to-date!\n"
     ]
    },
    {
     "data": {
      "text/plain": "True"
     },
     "execution_count": 4,
     "metadata": {},
     "output_type": "execute_result"
    }
   ],
   "source": [
    "import pandas as pd\n",
    "import nltk\n",
    "nltk.download('punkt')"
   ],
   "metadata": {
    "collapsed": false,
    "ExecuteTime": {
     "end_time": "2024-05-08T06:33:30.164423Z",
     "start_time": "2024-05-08T06:33:27.850623Z"
    }
   },
   "id": "9fc25269ed418d89",
   "execution_count": 4
  },
  {
   "cell_type": "code",
   "outputs": [],
   "source": [
    "data = pd.read_csv('tweet.csv')"
   ],
   "metadata": {
    "collapsed": false
   },
   "id": "9bb5103a5047f8ce"
  },
  {
   "cell_type": "code",
   "outputs": [],
   "source": [
    "data.head()"
   ],
   "metadata": {
    "collapsed": false
   },
   "id": "201f815925579fef"
  },
  {
   "cell_type": "code",
   "outputs": [],
   "source": [
    "united = data[data.airline == 'United']"
   ],
   "metadata": {
    "collapsed": false
   },
   "id": "ca0715d7a7be2247"
  },
  {
   "cell_type": "code",
   "outputs": [],
   "source": [
    "united.airline_sentiment.value_counts()"
   ],
   "metadata": {
    "collapsed": false
   },
   "id": "757e987eec55a1b8"
  },
  {
   "cell_type": "code",
   "outputs": [],
   "source": [
    "import re\n",
    "def tokenize_and_count(text):\n",
    "    tokens = nltk.word_tokenize(text)\n",
    "    patt = re.compile(r'[a-zA-Z0-9]+')\n",
    "    count = 0\n",
    "    for token in tokens:\n",
    "        if patt.match(token):\n",
    "            count += 1\n",
    "    return count\n",
    "\n",
    "united['length'] = united.text.apply(tokenize_and_count)"
   ],
   "metadata": {
    "collapsed": false
   },
   "id": "71ed745cca0cccd0"
  },
  {
   "cell_type": "code",
   "outputs": [],
   "source": [
    "def tokenize(text):\n",
    "    tokens = nltk.word_tokenize(text)\n",
    "    patt = re.compile(r'[a-zA-Z0-9]+')\n",
    "    new_tokens = [x for x in tokens if patt.match(x)]\n",
    "    return '|'.join(new_tokens)\n",
    "\n",
    "tokenize('I am happy to fly here')"
   ],
   "metadata": {
    "collapsed": false
   },
   "id": "c2acde592122f8b2",
   "execution_count": null
  },
  {
   "cell_type": "code",
   "outputs": [],
   "source": [
    "united['tokens'] = united.text.apply(tokenize)"
   ],
   "metadata": {
    "collapsed": false
   },
   "id": "352b285f1c2e2e34"
  }
 ],
 "metadata": {
  "kernelspec": {
   "display_name": "Python 3",
   "language": "python",
   "name": "python3"
  },
  "language_info": {
   "codemirror_mode": {
    "name": "ipython",
    "version": 2
   },
   "file_extension": ".py",
   "mimetype": "text/x-python",
   "name": "python",
   "nbconvert_exporter": "python",
   "pygments_lexer": "ipython2",
   "version": "2.7.6"
  }
 },
 "nbformat": 4,
 "nbformat_minor": 5
}
