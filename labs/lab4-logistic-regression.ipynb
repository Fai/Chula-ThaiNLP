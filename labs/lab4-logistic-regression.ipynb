{
 "cells": [
  {
   "cell_type": "code",
   "outputs": [
    {
     "name": "stdout",
     "output_type": "stream",
     "text": [
      "\u001B[33mDEPRECATION: Configuring installation scheme with distutils config files is deprecated and will no longer work in the near future. If you are using a Homebrew or Linuxbrew Python, please see discussion at https://github.com/Homebrew/homebrew-core/issues/76621\u001B[0m\u001B[33m\r\n",
      "\u001B[0mRequirement already satisfied: pandas in /usr/local/lib/python3.9/site-packages (2.2.2)\r\n",
      "Collecting nltk\r\n",
      "  Using cached nltk-3.8.1-py3-none-any.whl.metadata (2.8 kB)\r\n",
      "Requirement already satisfied: scikit-learn in /usr/local/lib/python3.9/site-packages (1.4.2)\r\n",
      "Requirement already satisfied: numpy>=1.22.4 in /usr/local/lib/python3.9/site-packages (from pandas) (1.26.4)\r\n",
      "Requirement already satisfied: python-dateutil>=2.8.2 in /usr/local/lib/python3.9/site-packages (from pandas) (2.9.0.post0)\r\n",
      "Requirement already satisfied: pytz>=2020.1 in /usr/local/lib/python3.9/site-packages (from pandas) (2024.1)\r\n",
      "Requirement already satisfied: tzdata>=2022.7 in /usr/local/lib/python3.9/site-packages (from pandas) (2024.1)\r\n",
      "Collecting click (from nltk)\r\n",
      "  Downloading click-8.1.7-py3-none-any.whl.metadata (3.0 kB)\r\n",
      "Requirement already satisfied: joblib in /usr/local/lib/python3.9/site-packages (from nltk) (1.4.2)\r\n",
      "Collecting regex>=2021.8.3 (from nltk)\r\n",
      "  Downloading regex-2024.4.28-cp39-cp39-macosx_10_9_x86_64.whl.metadata (40 kB)\r\n",
      "\u001B[2K     \u001B[90m━━━━━━━━━━━━━━━━━━━━━━━━━━━━━━━━━━━━━━━\u001B[0m \u001B[32m40.8/40.8 kB\u001B[0m \u001B[31m718.1 kB/s\u001B[0m eta \u001B[36m0:00:00\u001B[0m \u001B[36m0:00:01\u001B[0m\r\n",
      "\u001B[?25hCollecting tqdm (from nltk)\r\n",
      "  Downloading tqdm-4.66.4-py3-none-any.whl.metadata (57 kB)\r\n",
      "\u001B[2K     \u001B[90m━━━━━━━━━━━━━━━━━━━━━━━━━━━━━━━━━━━━━━━━\u001B[0m \u001B[32m57.6/57.6 kB\u001B[0m \u001B[31m4.0 MB/s\u001B[0m eta \u001B[36m0:00:00\u001B[0m\r\n",
      "\u001B[?25hRequirement already satisfied: scipy>=1.6.0 in /usr/local/lib/python3.9/site-packages (from scikit-learn) (1.13.0)\r\n",
      "Requirement already satisfied: threadpoolctl>=2.0.0 in /usr/local/lib/python3.9/site-packages (from scikit-learn) (3.5.0)\r\n",
      "Requirement already satisfied: six>=1.5 in /usr/local/lib/python3.9/site-packages (from python-dateutil>=2.8.2->pandas) (1.16.0)\r\n",
      "Using cached nltk-3.8.1-py3-none-any.whl (1.5 MB)\r\n",
      "Downloading regex-2024.4.28-cp39-cp39-macosx_10_9_x86_64.whl (281 kB)\r\n",
      "\u001B[2K   \u001B[90m━━━━━━━━━━━━━━━━━━━━━━━━━━━━━━━━━━━━━━━━\u001B[0m \u001B[32m281.7/281.7 kB\u001B[0m \u001B[31m4.4 MB/s\u001B[0m eta \u001B[36m0:00:00\u001B[0ma \u001B[36m0:00:01\u001B[0m\r\n",
      "\u001B[?25hDownloading click-8.1.7-py3-none-any.whl (97 kB)\r\n",
      "\u001B[2K   \u001B[90m━━━━━━━━━━━━━━━━━━━━━━━━━━━━━━━━━━━━━━━━\u001B[0m \u001B[32m97.9/97.9 kB\u001B[0m \u001B[31m5.4 MB/s\u001B[0m eta \u001B[36m0:00:00\u001B[0m\r\n",
      "\u001B[?25hDownloading tqdm-4.66.4-py3-none-any.whl (78 kB)\r\n",
      "\u001B[2K   \u001B[90m━━━━━━━━━━━━━━━━━━━━━━━━━━━━━━━━━━━━━━━━\u001B[0m \u001B[32m78.3/78.3 kB\u001B[0m \u001B[31m3.7 MB/s\u001B[0m eta \u001B[36m0:00:00\u001B[0m\r\n",
      "\u001B[?25hInstalling collected packages: tqdm, regex, click, nltk\r\n",
      "\u001B[33m  DEPRECATION: Configuring installation scheme with distutils config files is deprecated and will no longer work in the near future. If you are using a Homebrew or Linuxbrew Python, please see discussion at https://github.com/Homebrew/homebrew-core/issues/76621\u001B[0m\u001B[33m\r\n",
      "\u001B[0m\u001B[33m  DEPRECATION: Configuring installation scheme with distutils config files is deprecated and will no longer work in the near future. If you are using a Homebrew or Linuxbrew Python, please see discussion at https://github.com/Homebrew/homebrew-core/issues/76621\u001B[0m\u001B[33m\r\n",
      "\u001B[0m\u001B[33m  DEPRECATION: Configuring installation scheme with distutils config files is deprecated and will no longer work in the near future. If you are using a Homebrew or Linuxbrew Python, please see discussion at https://github.com/Homebrew/homebrew-core/issues/76621\u001B[0m\u001B[33m\r\n",
      "\u001B[0m\u001B[33m  DEPRECATION: Configuring installation scheme with distutils config files is deprecated and will no longer work in the near future. If you are using a Homebrew or Linuxbrew Python, please see discussion at https://github.com/Homebrew/homebrew-core/issues/76621\u001B[0m\u001B[33m\r\n",
      "\u001B[0m\u001B[33mDEPRECATION: Configuring installation scheme with distutils config files is deprecated and will no longer work in the near future. If you are using a Homebrew or Linuxbrew Python, please see discussion at https://github.com/Homebrew/homebrew-core/issues/76621\u001B[0m\u001B[33m\r\n",
      "\u001B[0mSuccessfully installed click-8.1.7 nltk-3.8.1 regex-2024.4.28 tqdm-4.66.4\r\n",
      "\r\n",
      "\u001B[1m[\u001B[0m\u001B[34;49mnotice\u001B[0m\u001B[1;39;49m]\u001B[0m\u001B[39;49m A new release of pip is available: \u001B[0m\u001B[31;49m23.3.1\u001B[0m\u001B[39;49m -> \u001B[0m\u001B[32;49m24.0\u001B[0m\r\n",
      "\u001B[1m[\u001B[0m\u001B[34;49mnotice\u001B[0m\u001B[1;39;49m]\u001B[0m\u001B[39;49m To update, run: \u001B[0m\u001B[32;49mpython3.9 -m pip install --upgrade pip\u001B[0m\r\n",
      "Note: you may need to restart the kernel to use updated packages.\n"
     ]
    }
   ],
   "source": [
    "%pip install pandas nltk scikit-learn"
   ],
   "metadata": {
    "collapsed": false,
    "ExecuteTime": {
     "end_time": "2024-05-08T04:21:12.009161Z",
     "start_time": "2024-05-08T04:21:04.422145Z"
    }
   },
   "id": "bf37aeefacf644a7",
   "execution_count": 5
  },
  {
   "cell_type": "markdown",
   "source": [
    "NLP II - Lecture 4: Logistic Regression"
   ],
   "metadata": {
    "collapsed": false
   },
   "id": "c9fc815ee2f42862"
  },
  {
   "cell_type": "code",
   "execution_count": 4,
   "id": "initial_id",
   "metadata": {
    "collapsed": true,
    "ExecuteTime": {
     "end_time": "2024-05-08T04:20:58.555552Z",
     "start_time": "2024-05-08T04:20:58.530635Z"
    }
   },
   "outputs": [
    {
     "data": {
      "text/plain": "             text  label\n0  meow meow yawn    cat\n1    nyan nyan ow    cat\n2  yawn woof woof    dog\n3         hong ow    dog\n4         yawn ow  camel\n5         hong ow  camel\n6       woof hong    dog\n7       nyan hong    dog",
      "text/html": "<div>\n<style scoped>\n    .dataframe tbody tr th:only-of-type {\n        vertical-align: middle;\n    }\n\n    .dataframe tbody tr th {\n        vertical-align: top;\n    }\n\n    .dataframe thead th {\n        text-align: right;\n    }\n</style>\n<table border=\"1\" class=\"dataframe\">\n  <thead>\n    <tr style=\"text-align: right;\">\n      <th></th>\n      <th>text</th>\n      <th>label</th>\n    </tr>\n  </thead>\n  <tbody>\n    <tr>\n      <th>0</th>\n      <td>meow meow yawn</td>\n      <td>cat</td>\n    </tr>\n    <tr>\n      <th>1</th>\n      <td>nyan nyan ow</td>\n      <td>cat</td>\n    </tr>\n    <tr>\n      <th>2</th>\n      <td>yawn woof woof</td>\n      <td>dog</td>\n    </tr>\n    <tr>\n      <th>3</th>\n      <td>hong ow</td>\n      <td>dog</td>\n    </tr>\n    <tr>\n      <th>4</th>\n      <td>yawn ow</td>\n      <td>camel</td>\n    </tr>\n    <tr>\n      <th>5</th>\n      <td>hong ow</td>\n      <td>camel</td>\n    </tr>\n    <tr>\n      <th>6</th>\n      <td>woof hong</td>\n      <td>dog</td>\n    </tr>\n    <tr>\n      <th>7</th>\n      <td>nyan hong</td>\n      <td>dog</td>\n    </tr>\n  </tbody>\n</table>\n</div>"
     },
     "execution_count": 4,
     "metadata": {},
     "output_type": "execute_result"
    }
   ],
   "source": [
    "import pandas as pd\n",
    "data = pd.DataFrame({\n",
    "    'text': ['meow meow yawn','nyan nyan ow','yawn woof woof', 'hong ow', 'yawn ow', 'hong ow', 'woof hong', 'nyan hong'],\n",
    "    'label': ['cat','cat','dog','dog','camel','camel','dog','dog']\n",
    "})\n",
    "data"
   ]
  },
  {
   "cell_type": "code",
   "outputs": [
    {
     "name": "stderr",
     "output_type": "stream",
     "text": [
      "[nltk_data] Downloading package punkt to /Users/Fai/nltk_data...\n",
      "[nltk_data]   Unzipping tokenizers/punkt.zip.\n"
     ]
    },
    {
     "data": {
      "text/plain": "True"
     },
     "execution_count": 6,
     "metadata": {},
     "output_type": "execute_result"
    }
   ],
   "source": [
    "import nltk\n",
    "nltk.download('punkt')"
   ],
   "metadata": {
    "collapsed": false,
    "ExecuteTime": {
     "end_time": "2024-05-08T04:34:33.052345Z",
     "start_time": "2024-05-08T04:34:28.648204Z"
    }
   },
   "id": "509522dd462e2105",
   "execution_count": 6
  },
  {
   "cell_type": "code",
   "outputs": [
    {
     "name": "stderr",
     "output_type": "stream",
     "text": [
      "/usr/local/lib/python3.9/site-packages/sklearn/linear_model/_logistic.py:469: ConvergenceWarning: lbfgs failed to converge (status=1):\n",
      "STOP: TOTAL NO. of ITERATIONS REACHED LIMIT.\n",
      "\n",
      "Increase the number of iterations (max_iter) or scale the data as shown in:\n",
      "    https://scikit-learn.org/stable/modules/preprocessing.html\n",
      "Please also refer to the documentation for alternative solver options:\n",
      "    https://scikit-learn.org/stable/modules/linear_model.html#logistic-regression\n",
      "  n_iter_i = _check_optimize_result(\n"
     ]
    }
   ],
   "source": [
    "import pandas as pd\n",
    "from sklearn.feature_extraction import DictVectorizer\n",
    "from nltk import word_tokenize\n",
    "from sklearn.linear_model import LogisticRegression\n",
    "from sklearn.model_selection import train_test_split\n",
    "from sklearn.metrics import classification_report\n",
    "\n",
    "# load data\n",
    "data = pd.DataFrame({\n",
    "    'text': ['meow meow yawn','nyan nyan ow','yawn woof woof', 'hong ow', 'yawn ow', 'hong ow', 'woof hong', 'nyan hong'] * 50,\n",
    "    'label': ['cat','cat','dog','dog','camel','camel','dog','dog'] * 50\n",
    "})\n",
    "\n",
    "# prepare data - random_state create same shuffle result \n",
    "train, dev_test = train_test_split(data, test_size=0.8, random_state=140)\n",
    "dev, test = train_test_split(dev_test, test_size=0.5, random_state=140)\n",
    "\n",
    "# feature engineering\n",
    "def featureize(text):\n",
    "    dict_feature = {}\n",
    "    dict_feature['ความยาวของข้อความ'] = len(text)\n",
    "    for token in word_tokenize(text):\n",
    "        if token not in dict_feature:\n",
    "            dict_feature[token] = 0\n",
    "        dict_feature[token] += 1\n",
    "    return dict_feature\n",
    "    # return {x:1 for x in word_tokenize(text)}\n",
    "vectorizer = DictVectorizer(sparse=True)\n",
    "train_features = train['text'].apply(featureize)\n",
    "feature_vectors = vectorizer.fit_transform(train_features)\n",
    "\n",
    "# train model\n",
    "lr_text_classifier = LogisticRegression()\n",
    "lr_text_classifier.fit(feature_vectors, train['label'])\n",
    "\n",
    "# evaluate model\n",
    "dev_feature = dev['text'].apply(featureize)\n",
    "dev_feature_vectors = vectorizer.transform(dev_feature)\n"
   ],
   "metadata": {
    "collapsed": false,
    "ExecuteTime": {
     "end_time": "2024-05-08T04:38:26.296437Z",
     "start_time": "2024-05-08T04:38:26.227895Z"
    }
   },
   "id": "daf77f09ded409d5",
   "execution_count": 15
  },
  {
   "cell_type": "code",
   "outputs": [],
   "source": [
    "weights = pd.DataFrame(lr_text_classifier.coef_, columns=vectorizer.feature_names_,index=lr_text_classifier.classes_)"
   ],
   "metadata": {
    "collapsed": false,
    "ExecuteTime": {
     "end_time": "2024-05-08T04:38:27.289275Z",
     "start_time": "2024-05-08T04:38:27.284360Z"
    }
   },
   "id": "9778d90d10ce7ff",
   "execution_count": 16
  },
  {
   "cell_type": "code",
   "outputs": [
    {
     "data": {
      "text/plain": "           hong      meow      nyan        ow      woof      yawn  \\\ncamel -0.622195  0.000272 -0.408771  0.481495 -0.099255  0.640291   \ncat   -0.342306  0.625321  0.727776  0.429591 -0.915392 -0.169703   \ndog    0.964501 -0.625594 -0.319005 -0.911086  1.014647 -0.470588   \n\n       ความยาวของข้อความ  \ncamel          -1.010996  \ncat             0.920177  \ndog             0.090819  ",
      "text/html": "<div>\n<style scoped>\n    .dataframe tbody tr th:only-of-type {\n        vertical-align: middle;\n    }\n\n    .dataframe tbody tr th {\n        vertical-align: top;\n    }\n\n    .dataframe thead th {\n        text-align: right;\n    }\n</style>\n<table border=\"1\" class=\"dataframe\">\n  <thead>\n    <tr style=\"text-align: right;\">\n      <th></th>\n      <th>hong</th>\n      <th>meow</th>\n      <th>nyan</th>\n      <th>ow</th>\n      <th>woof</th>\n      <th>yawn</th>\n      <th>ความยาวของข้อความ</th>\n    </tr>\n  </thead>\n  <tbody>\n    <tr>\n      <th>camel</th>\n      <td>-0.622195</td>\n      <td>0.000272</td>\n      <td>-0.408771</td>\n      <td>0.481495</td>\n      <td>-0.099255</td>\n      <td>0.640291</td>\n      <td>-1.010996</td>\n    </tr>\n    <tr>\n      <th>cat</th>\n      <td>-0.342306</td>\n      <td>0.625321</td>\n      <td>0.727776</td>\n      <td>0.429591</td>\n      <td>-0.915392</td>\n      <td>-0.169703</td>\n      <td>0.920177</td>\n    </tr>\n    <tr>\n      <th>dog</th>\n      <td>0.964501</td>\n      <td>-0.625594</td>\n      <td>-0.319005</td>\n      <td>-0.911086</td>\n      <td>1.014647</td>\n      <td>-0.470588</td>\n      <td>0.090819</td>\n    </tr>\n  </tbody>\n</table>\n</div>"
     },
     "execution_count": 17,
     "metadata": {},
     "output_type": "execute_result"
    }
   ],
   "source": [
    "weights"
   ],
   "metadata": {
    "collapsed": false,
    "ExecuteTime": {
     "end_time": "2024-05-08T04:38:28.535696Z",
     "start_time": "2024-05-08T04:38:28.523037Z"
    }
   },
   "id": "d134fc16a9ba8908",
   "execution_count": 17
  },
  {
   "cell_type": "code",
   "outputs": [
    {
     "data": {
      "text/plain": "                      camel       cat       dog\nhong              -0.622195 -0.342306  0.964501\nmeow               0.000272  0.625321 -0.625594\nnyan              -0.408771  0.727776 -0.319005\now                 0.481495  0.429591 -0.911086\nwoof              -0.099255 -0.915392  1.014647\nyawn               0.640291 -0.169703 -0.470588\nความยาวของข้อความ -1.010996  0.920177  0.090819",
      "text/html": "<div>\n<style scoped>\n    .dataframe tbody tr th:only-of-type {\n        vertical-align: middle;\n    }\n\n    .dataframe tbody tr th {\n        vertical-align: top;\n    }\n\n    .dataframe thead th {\n        text-align: right;\n    }\n</style>\n<table border=\"1\" class=\"dataframe\">\n  <thead>\n    <tr style=\"text-align: right;\">\n      <th></th>\n      <th>camel</th>\n      <th>cat</th>\n      <th>dog</th>\n    </tr>\n  </thead>\n  <tbody>\n    <tr>\n      <th>hong</th>\n      <td>-0.622195</td>\n      <td>-0.342306</td>\n      <td>0.964501</td>\n    </tr>\n    <tr>\n      <th>meow</th>\n      <td>0.000272</td>\n      <td>0.625321</td>\n      <td>-0.625594</td>\n    </tr>\n    <tr>\n      <th>nyan</th>\n      <td>-0.408771</td>\n      <td>0.727776</td>\n      <td>-0.319005</td>\n    </tr>\n    <tr>\n      <th>ow</th>\n      <td>0.481495</td>\n      <td>0.429591</td>\n      <td>-0.911086</td>\n    </tr>\n    <tr>\n      <th>woof</th>\n      <td>-0.099255</td>\n      <td>-0.915392</td>\n      <td>1.014647</td>\n    </tr>\n    <tr>\n      <th>yawn</th>\n      <td>0.640291</td>\n      <td>-0.169703</td>\n      <td>-0.470588</td>\n    </tr>\n    <tr>\n      <th>ความยาวของข้อความ</th>\n      <td>-1.010996</td>\n      <td>0.920177</td>\n      <td>0.090819</td>\n    </tr>\n  </tbody>\n</table>\n</div>"
     },
     "execution_count": 18,
     "metadata": {},
     "output_type": "execute_result"
    }
   ],
   "source": [
    "weights.transpose()"
   ],
   "metadata": {
    "collapsed": false,
    "ExecuteTime": {
     "end_time": "2024-05-08T04:38:29.992699Z",
     "start_time": "2024-05-08T04:38:29.981416Z"
    }
   },
   "id": "a0e6fcfd1d2ccb99",
   "execution_count": 18
  },
  {
   "cell_type": "code",
   "outputs": [
    {
     "data": {
      "text/plain": "                      camel       cat       dog\nwoof              -0.099255 -0.915392  1.014647\nhong              -0.622195 -0.342306  0.964501\nความยาวของข้อความ -1.010996  0.920177  0.090819\nnyan              -0.408771  0.727776 -0.319005\nyawn               0.640291 -0.169703 -0.470588\nmeow               0.000272  0.625321 -0.625594\now                 0.481495  0.429591 -0.911086",
      "text/html": "<div>\n<style scoped>\n    .dataframe tbody tr th:only-of-type {\n        vertical-align: middle;\n    }\n\n    .dataframe tbody tr th {\n        vertical-align: top;\n    }\n\n    .dataframe thead th {\n        text-align: right;\n    }\n</style>\n<table border=\"1\" class=\"dataframe\">\n  <thead>\n    <tr style=\"text-align: right;\">\n      <th></th>\n      <th>camel</th>\n      <th>cat</th>\n      <th>dog</th>\n    </tr>\n  </thead>\n  <tbody>\n    <tr>\n      <th>woof</th>\n      <td>-0.099255</td>\n      <td>-0.915392</td>\n      <td>1.014647</td>\n    </tr>\n    <tr>\n      <th>hong</th>\n      <td>-0.622195</td>\n      <td>-0.342306</td>\n      <td>0.964501</td>\n    </tr>\n    <tr>\n      <th>ความยาวของข้อความ</th>\n      <td>-1.010996</td>\n      <td>0.920177</td>\n      <td>0.090819</td>\n    </tr>\n    <tr>\n      <th>nyan</th>\n      <td>-0.408771</td>\n      <td>0.727776</td>\n      <td>-0.319005</td>\n    </tr>\n    <tr>\n      <th>yawn</th>\n      <td>0.640291</td>\n      <td>-0.169703</td>\n      <td>-0.470588</td>\n    </tr>\n    <tr>\n      <th>meow</th>\n      <td>0.000272</td>\n      <td>0.625321</td>\n      <td>-0.625594</td>\n    </tr>\n    <tr>\n      <th>ow</th>\n      <td>0.481495</td>\n      <td>0.429591</td>\n      <td>-0.911086</td>\n    </tr>\n  </tbody>\n</table>\n</div>"
     },
     "execution_count": 21,
     "metadata": {},
     "output_type": "execute_result"
    }
   ],
   "source": [
    "weights.transpose().sort_values('dog', ascending=False)"
   ],
   "metadata": {
    "collapsed": false,
    "ExecuteTime": {
     "end_time": "2024-05-08T04:39:39.224749Z",
     "start_time": "2024-05-08T04:39:39.211764Z"
    }
   },
   "id": "891e03f8409aeec9",
   "execution_count": 21
  },
  {
   "cell_type": "code",
   "outputs": [
    {
     "data": {
      "text/plain": "camel   -0.408771\ncat      0.727776\ndog     -0.319005\nName: nyan, dtype: float64"
     },
     "execution_count": 22,
     "metadata": {},
     "output_type": "execute_result"
    }
   ],
   "source": [
    "weights.transpose().loc['nyan']"
   ],
   "metadata": {
    "collapsed": false,
    "ExecuteTime": {
     "end_time": "2024-05-08T04:40:09.797569Z",
     "start_time": "2024-05-08T04:40:09.789558Z"
    }
   },
   "id": "2e039d4b5046fac",
   "execution_count": 22
  },
  {
   "cell_type": "code",
   "outputs": [],
   "source": [
    "weights.to_excel('weights.xlsx')"
   ],
   "metadata": {
    "collapsed": false
   },
   "id": "f04b9470c08a06b7"
  },
  {
   "cell_type": "code",
   "outputs": [
    {
     "data": {
      "text/plain": "               0\ncamel   9.078864\ncat   -10.031241\ndog     0.952376",
      "text/html": "<div>\n<style scoped>\n    .dataframe tbody tr th:only-of-type {\n        vertical-align: middle;\n    }\n\n    .dataframe tbody tr th {\n        vertical-align: top;\n    }\n\n    .dataframe thead th {\n        text-align: right;\n    }\n</style>\n<table border=\"1\" class=\"dataframe\">\n  <thead>\n    <tr style=\"text-align: right;\">\n      <th></th>\n      <th>0</th>\n    </tr>\n  </thead>\n  <tbody>\n    <tr>\n      <th>camel</th>\n      <td>9.078864</td>\n    </tr>\n    <tr>\n      <th>cat</th>\n      <td>-10.031241</td>\n    </tr>\n    <tr>\n      <th>dog</th>\n      <td>0.952376</td>\n    </tr>\n  </tbody>\n</table>\n</div>"
     },
     "execution_count": 23,
     "metadata": {},
     "output_type": "execute_result"
    }
   ],
   "source": [
    "# bias\n",
    "pd.DataFrame(lr_text_classifier.intercept_, index=lr_text_classifier.classes_)"
   ],
   "metadata": {
    "collapsed": false,
    "ExecuteTime": {
     "end_time": "2024-05-08T04:42:27.316198Z",
     "start_time": "2024-05-08T04:42:27.308443Z"
    }
   },
   "id": "9a6195063773f958",
   "execution_count": 23
  }
 ],
 "metadata": {
  "kernelspec": {
   "display_name": "Python 3",
   "language": "python",
   "name": "python3"
  },
  "language_info": {
   "codemirror_mode": {
    "name": "ipython",
    "version": 2
   },
   "file_extension": ".py",
   "mimetype": "text/x-python",
   "name": "python",
   "nbconvert_exporter": "python",
   "pygments_lexer": "ipython2",
   "version": "2.7.6"
  }
 },
 "nbformat": 4,
 "nbformat_minor": 5
}
