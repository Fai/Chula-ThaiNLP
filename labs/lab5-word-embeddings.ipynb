{
 "cells": [
  {
   "cell_type": "code",
   "outputs": [],
   "source": [
    "!pip install --upgrade --no-cache-dir gdown"
   ],
   "metadata": {
    "collapsed": false
   },
   "id": "788de5d56724dcc2"
  },
  {
   "cell_type": "markdown",
   "source": [
    "Download data and extract file"
   ],
   "metadata": {
    "collapsed": false
   },
   "id": "ea1eed0e32cc75b7"
  },
  {
   "cell_type": "code",
   "execution_count": null,
   "id": "initial_id",
   "metadata": {
    "collapsed": true
   },
   "outputs": [],
   "source": [
    "!git clone https://github.com/tmikolov/word2vec\n",
    "!cd word2vec && make"
   ]
  },
  {
   "cell_type": "code",
   "outputs": [],
   "source": [
    "from zipfile import ZipFile\n",
    "with ZipFile('TNC3_unicode_tokenized_all_txt.zip') as zip_ref:\n",
    "    zip_ref.extractall()"
   ],
   "metadata": {
    "collapsed": false
   },
   "id": "31a6e7e072391cc",
   "execution_count": null
  },
  {
   "cell_type": "code",
   "outputs": [],
   "source": [
    "!head -n 20 TNC3_unicode_tokenized_all.txt "
   ],
   "metadata": {
    "collapsed": false
   },
   "id": "e30a82875e4325a0"
  },
  {
   "cell_type": "markdown",
   "source": [
    "Clean data"
   ],
   "metadata": {
    "collapsed": false
   },
   "id": "f78215615cf106f2"
  },
  {
   "cell_type": "code",
   "outputs": [],
   "source": [
    "import re\n",
    "with open('corpus.txt', mode='w') as f:\n",
    "    for line in open('TNC3_unicode_tokenized_all.txt'):\n",
    "        line = re.sub('\\s\\+', '', line).strip()\n",
    "        f.write(line)\n",
    "        f.write('\\n')"
   ],
   "metadata": {
    "collapsed": false
   },
   "id": "ebce9a116ceb6f1d"
  },
  {
   "cell_type": "code",
   "outputs": [],
   "source": [
    "!head -n 20 corpus.txt"
   ],
   "metadata": {
    "collapsed": false
   },
   "id": "9b792f940f06444f"
  },
  {
   "cell_type": "code",
   "outputs": [],
   "source": [
    "!./word2vec/word2vec"
   ],
   "metadata": {
    "collapsed": false
   },
   "id": "ed8c83d59ba23c87"
  },
  {
   "cell_type": "markdown",
   "source": [
    "-output ไฟล์ที่ต้องการเก็บข้อมูล\n",
    "-size ขนาดของ dimension ที่ต้องการ\n",
    "-binary เก็บเป็น binary (1) ขนาดเล็กกว่า text (0)"
   ],
   "metadata": {
    "collapsed": false
   },
   "id": "e61e4cb646ae62ad"
  },
  {
   "cell_type": "markdown",
   "source": [
    "Train"
   ],
   "metadata": {
    "collapsed": false
   },
   "id": "888dd8baf40c8b9b"
  },
  {
   "cell_type": "code",
   "outputs": [],
   "source": [
    "!./word2vec/word2phrase -train corpus.txt -output TNC_embedding-50.bin -size 50 -binary 1"
   ],
   "metadata": {
    "collapsed": false
   },
   "id": "c286e433eabe9332"
  },
  {
   "cell_type": "code",
   "outputs": [],
   "source": [
    "!./word2vec/word2phrase -train corpus.txt -output TNC_embedding-100.bin -size 100 -binary 1"
   ],
   "metadata": {
    "collapsed": false
   },
   "id": "627bdaebbdff1a4a"
  },
  {
   "cell_type": "code",
   "outputs": [],
   "source": [
    "!./word2vec/word2phrase -train corpus.txt -output TNC_embedding-200.bin -size 200 -binary 1"
   ],
   "metadata": {
    "collapsed": false
   },
   "id": "651a3183e5390072"
  },
  {
   "cell_type": "markdown",
   "source": [
    "Analysis"
   ],
   "metadata": {
    "collapsed": false
   },
   "id": "bac767623b11ba09"
  },
  {
   "cell_type": "code",
   "outputs": [],
   "source": [
    "tnc_embeddings = KeyedVectors.load_word2vec_format('TNC_embedding-50.bin', binary=True, unicode_errors='ignore')"
   ],
   "metadata": {
    "collapsed": false
   },
   "id": "2a4aef412d34c755"
  },
  {
   "cell_type": "code",
   "outputs": [],
   "source": [
    "len(tnc_embeddings.vocab)"
   ],
   "metadata": {
    "collapsed": false
   },
   "id": "42072fe7de231e65"
  },
  {
   "cell_type": "code",
   "outputs": [],
   "source": [
    "tnc_embeddings.similar_by_word('เหลือง')"
   ],
   "metadata": {
    "collapsed": false
   },
   "id": "19bbf06932816e64"
  },
  {
   "cell_type": "code",
   "outputs": [],
   "source": [
    "tnc_embeddings.most_similar(positive=['โตเกียว', 'อังกฤษ'], negative=['ญี่ปุ่น'])"
   ],
   "metadata": {
    "collapsed": false
   },
   "id": "116c3f4aa5b5b6e8"
  }
 ],
 "metadata": {
  "kernelspec": {
   "display_name": "Python 3",
   "language": "python",
   "name": "python3"
  },
  "language_info": {
   "codemirror_mode": {
    "name": "ipython",
    "version": 2
   },
   "file_extension": ".py",
   "mimetype": "text/x-python",
   "name": "python",
   "nbconvert_exporter": "python",
   "pygments_lexer": "ipython2",
   "version": "2.7.6"
  }
 },
 "nbformat": 4,
 "nbformat_minor": 5
}
